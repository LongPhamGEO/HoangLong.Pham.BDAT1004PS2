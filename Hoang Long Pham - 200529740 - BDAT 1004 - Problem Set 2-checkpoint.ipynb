{
 "cells": [
  {
   "cell_type": "code",
   "execution_count": 1,
   "id": "7519c381",
   "metadata": {},
   "outputs": [
    {
     "data": {
      "text/plain": [
       "6"
      ]
     },
     "execution_count": 1,
     "metadata": {},
     "output_type": "execute_result"
    }
   ],
   "source": [
    "#Question 1:\n",
    "a = 0\n",
    "\n",
    "def b():\n",
    "    global a\n",
    "    a = c(a)\n",
    "    \n",
    "def c(a):\n",
    "    return a + 2\n",
    "\n",
    "b()\n",
    "b()\n",
    "b()\n",
    "a"
   ]
  },
  {
   "cell_type": "markdown",
   "id": "f87c50ad",
   "metadata": {},
   "source": [
    "When executing function b(), the function will call global variable \"a\" and excute function c(a). The function c(a) will increase \"a\" by 2 and return the new value into function b(). After that, function b() will return new value of a after increasing it by 2.\n",
    "\n",
    "In other words, everytime the function b() is called, it will trigger function c to increase the value of the global variable \"a\" by 2.\n",
    "\n",
    "After three times calling function b(), the value of a increases three times of 2 or 6. Therefore, the last expression (a) is evaluated and presented as 6."
   ]
  },
  {
   "cell_type": "code",
   "execution_count": 8,
   "id": "c120ccd2",
   "metadata": {},
   "outputs": [
    {
     "name": "stdout",
     "output_type": "stream",
     "text": [
      "File idterm.py not found.\n"
     ]
    }
   ],
   "source": [
    "#Question 2:\n",
    "def fileLength(file_name):\n",
    "    try:\n",
    "        file = open(file_name)\n",
    "        contents = file.read()\n",
    "        file.close()\n",
    "        print(len(contents))\n",
    "    except:\n",
    "        print('File ' + file_name + ' not found.')\n",
    "\n",
    "fileLength('idterm.py')"
   ]
  },
  {
   "cell_type": "code",
   "execution_count": 13,
   "id": "275db15a",
   "metadata": {},
   "outputs": [
    {
     "name": "stdout",
     "output_type": "stream",
     "text": [
      "['doll', 'firetruck', 'kitten']\n"
     ]
    }
   ],
   "source": [
    "#Question 3:\n",
    "class Marsupial:\n",
    "    def __init__(self):\n",
    "        self.list = []\n",
    "    \n",
    "    def put_in_pouch(self, item):\n",
    "        self.list.append(item)\n",
    "        \n",
    "    def pouch_contents(self):\n",
    "        print(self.list)\n",
    "\n",
    "    \n",
    "m = Marsupial()\n",
    "m.put_in_pouch('doll')\n",
    "m.put_in_pouch('firetruck')\n",
    "m.put_in_pouch('kitten')\n",
    "m.pouch_contents()"
   ]
  },
  {
   "cell_type": "code",
   "execution_count": 30,
   "id": "87792a48",
   "metadata": {},
   "outputs": [
    {
     "name": "stdout",
     "output_type": "stream",
     "text": [
      "I am a Kangaroo located at coordinates (0,0)\n",
      "['doll', 'firetruck', 'kitten']\n",
      "I am a Kangaroo located at coordinates (3,0)\n"
     ]
    }
   ],
   "source": [
    "class Kangaroo(Marsupial):\n",
    "    def __str__(self):\n",
    "        message = 'I am a Kangaroo located at coordinates ({},{})'.format(self.x,self.y)\n",
    "        return message\n",
    "    \n",
    "    def jump(self, dx, dy):\n",
    "        self.x = self.x + dx\n",
    "        self.y = self.y + dy\n",
    "    \n",
    "k = Kangaroo(0,0)\n",
    "print(k)\n",
    "k.put_in_pouch('doll')\n",
    "k.put_in_pouch('firetruck')\n",
    "k.put_in_pouch('kitten')\n",
    "k.pouch_contents()\n",
    "k.jump(1,0)\n",
    "k.jump(1,0)\n",
    "k.jump(1,0)\n",
    "print(k)"
   ]
  },
  {
   "cell_type": "code",
   "execution_count": 7,
   "id": "ccdf76a4",
   "metadata": {},
   "outputs": [
    {
     "name": "stdout",
     "output_type": "stream",
     "text": [
      "16\n",
      "8\n",
      "4\n",
      "2\n",
      "1\n"
     ]
    }
   ],
   "source": [
    "#Question 4:\n",
    "def collatz(x):\n",
    "    print(x)\n",
    "    while x!=1:\n",
    "        if x % 2 == 1:\n",
    "            x = 3 * x + 1\n",
    "        else:\n",
    "            x = x / 2\n",
    "        print(int(x))\n",
    "        \n",
    "collatz(16)"
   ]
  },
  {
   "cell_type": "code",
   "execution_count": 12,
   "id": "831fa221",
   "metadata": {},
   "outputs": [
    {
     "data": {
      "text/plain": [
       "'1100100'"
      ]
     },
     "execution_count": 12,
     "metadata": {},
     "output_type": "execute_result"
    }
   ],
   "source": [
    "#Question 5:\n",
    "def binary(n):\n",
    "    if n < 0:\n",
    "        print('Please enter non-negative integer')\n",
    "    else:\n",
    "        bin = ''\n",
    "        while n >= 1:\n",
    "            remainder = str((n % 2))\n",
    "            bin = remainder + bin\n",
    "            n = n // 2\n",
    "        return bin\n",
    "\n",
    "binary(100)"
   ]
  },
  {
   "cell_type": "code",
   "execution_count": null,
   "id": "59cf1f85",
   "metadata": {},
   "outputs": [],
   "source": [
    "#Question 6:\n",
    "from html.parser import HTMLParser\n",
    "class HeadingParser(HTMLParser):\n",
    "\n",
    "    def handle_starttag(self, tag, attrs):\n",
    "        'print value of href attribute if any'\n",
    "        if tag == 'a':\n",
    "            # search for href attribute and print its value\n",
    "            for attr in attrs:\n",
    "                if attr[0] == 'href':\n",
    "                    print(attr[1])\n"
   ]
  }
 ],
 "metadata": {
  "kernelspec": {
   "display_name": "Python 3 (ipykernel)",
   "language": "python",
   "name": "python3"
  },
  "language_info": {
   "codemirror_mode": {
    "name": "ipython",
    "version": 3
   },
   "file_extension": ".py",
   "mimetype": "text/x-python",
   "name": "python",
   "nbconvert_exporter": "python",
   "pygments_lexer": "ipython3",
   "version": "3.9.12"
  }
 },
 "nbformat": 4,
 "nbformat_minor": 5
}
